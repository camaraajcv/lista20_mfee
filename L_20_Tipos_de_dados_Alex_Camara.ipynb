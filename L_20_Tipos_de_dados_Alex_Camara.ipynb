{
  "cells": [
    {
      "cell_type": "markdown",
      "metadata": {
        "id": "HtcDcfQHgSVS"
      },
      "source": [
        "## Superpotência\n",
        "\n",
        "1. Faça uma função chamada `superpot` que eleve um número a si próprio. Por exemplo, ao receber 2, ela retorne $2^2 = 4$. Ao receber $3$, ela retorne $3^3 = 27$. Ao receber $4$, ela retorne $4^4 = 256$. E assim por diante... Teste sua função com 2, 3 e 4, e veja se você realmente obtém esses valores."
      ]
    },
    {
      "cell_type": "code",
      "execution_count": 10,
      "metadata": {
        "id": "NgpvEXpUgSVV",
        "outputId": "fdc16000-13d3-4698-d8d3-13d58ed48f64",
        "colab": {
          "base_uri": "https://localhost:8080/"
        }
      },
      "outputs": [
        {
          "output_type": "execute_result",
          "data": {
            "text/plain": [
              "256"
            ]
          },
          "metadata": {},
          "execution_count": 10
        }
      ],
      "source": [
        "def superpot(x):\n",
        "    return (x**x)\n",
        "superpot(2)\n",
        "superpot(3)\n",
        "superpot(4)\n"
      ]
    },
    {
      "cell_type": "markdown",
      "metadata": {
        "id": "BTh5lO2UgSVX"
      },
      "source": [
        "2. Use sua função para descobrir quanto é $1000^{1000}$"
      ]
    },
    {
      "cell_type": "code",
      "execution_count": 11,
      "metadata": {
        "id": "6aQ3qt_egSVY",
        "outputId": "a828717c-dc4c-4886-e93f-ab1fe63a1291",
        "colab": {
          "base_uri": "https://localhost:8080/"
        }
      },
      "outputs": [
        {
          "output_type": "execute_result",
          "data": {
            "text/plain": [
              "1000000000000000000000000000000000000000000000000000000000000000000000000000000000000000000000000000000000000000000000000000000000000000000000000000000000000000000000000000000000000000000000000000000000000000000000000000000000000000000000000000000000000000000000000000000000000000000000000000000000000000000000000000000000000000000000000000000000000000000000000000000000000000000000000000000000000000000000000000000000000000000000000000000000000000000000000000000000000000000000000000000000000000000000000000000000000000000000000000000000000000000000000000000000000000000000000000000000000000000000000000000000000000000000000000000000000000000000000000000000000000000000000000000000000000000000000000000000000000000000000000000000000000000000000000000000000000000000000000000000000000000000000000000000000000000000000000000000000000000000000000000000000000000000000000000000000000000000000000000000000000000000000000000000000000000000000000000000000000000000000000000000000000000000000000000000000000000000000000000000000000000000000000000000000000000000000000000000000000000000000000000000000000000000000000000000000000000000000000000000000000000000000000000000000000000000000000000000000000000000000000000000000000000000000000000000000000000000000000000000000000000000000000000000000000000000000000000000000000000000000000000000000000000000000000000000000000000000000000000000000000000000000000000000000000000000000000000000000000000000000000000000000000000000000000000000000000000000000000000000000000000000000000000000000000000000000000000000000000000000000000000000000000000000000000000000000000000000000000000000000000000000000000000000000000000000000000000000000000000000000000000000000000000000000000000000000000000000000000000000000000000000000000000000000000000000000000000000000000000000000000000000000000000000000000000000000000000000000000000000000000000000000000000000000000000000000000000000000000000000000000000000000000000000000000000000000000000000000000000000000000000000000000000000000000000000000000000000000000000000000000000000000000000000000000000000000000000000000000000000000000000000000000000000000000000000000000000000000000000000000000000000000000000000000000000000000000000000000000000000000000000000000000000000000000000000000000000000000000000000000000000000000000000000000000000000000000000000000000000000000000000000000000000000000000000000000000000000000000000000000000000000000000000000000000000000000000000000000000000000000000000000000000000000000000000000000000000000000000000000000000000000000000000000000000000000000000000000000000000000000000000000000000000000000000000000000000000000000000000000000000000000000000000000000000000000000000000000000000000000000000000000000000000000000000000000000000000000000000000000000000000000000000000000000000000000000000000000000000000000000000000000000000000000000000000000000000000000000000000000000000000000000000000000000000000000000000000000000000000000000000000000000000000000000000000000000000000000000000000000000"
            ]
          },
          "metadata": {},
          "execution_count": 11
        }
      ],
      "source": [
        "superpot(1000)\n"
      ]
    },
    {
      "cell_type": "markdown",
      "metadata": {
        "id": "GTvcrb7vgSVZ"
      },
      "source": [
        "3. A função a seguir conta quantos dígitos um número tem. Use essa função e a função que você definiu acima para contar quantos dígitos tem $1000^{1000}$"
      ]
    },
    {
      "cell_type": "code",
      "execution_count": 12,
      "metadata": {
        "id": "6qyEaZE4gSVZ"
      },
      "outputs": [],
      "source": [
        "def n_digitos(x):\n",
        "    return(len(str(x)))"
      ]
    },
    {
      "cell_type": "code",
      "execution_count": 13,
      "metadata": {
        "id": "JKA0EXD-gSVa",
        "outputId": "855d859c-853d-44fb-c26d-d273533574f3",
        "colab": {
          "base_uri": "https://localhost:8080/"
        }
      },
      "outputs": [
        {
          "output_type": "execute_result",
          "data": {
            "text/plain": [
              "3001"
            ]
          },
          "metadata": {},
          "execution_count": 13
        }
      ],
      "source": [
        "n_digitos(superpot(1000))\n"
      ]
    },
    {
      "cell_type": "markdown",
      "metadata": {
        "id": "bczeNat4gSVa"
      },
      "source": [
        "## Valor futuro\n",
        "\n",
        "Crie uma função que calcule o valor de um investimento de renda fixa após determinado tempo. A função deve receber 3 inputs:\n",
        "* $P$, o valor investido (chamado _principal_)\n",
        "* $i$, o rendimento da aplicação\n",
        "* $n$, o número de períodos de capitalização do investimento.\n",
        "\n",
        "O valor do investimento é dado por\n",
        "\n",
        "$$\n",
        "V = P \\cdot (1+i)^n\n",
        "$$\n"
      ]
    },
    {
      "cell_type": "code",
      "execution_count": 16,
      "metadata": {
        "id": "bbHoRIrbgSVb"
      },
      "outputs": [],
      "source": [
        "def valor_investimento (p,i,n):\n",
        "    return(p*(1+i)**n)\n"
      ]
    },
    {
      "cell_type": "markdown",
      "metadata": {
        "id": "iFEOn8MpgSVb"
      },
      "source": [
        "### Collatz \n",
        "\n",
        "A sequência de Collatz é muito bonitinha. Ela recebe um número $n$ inteiro e devolve outro, calculado da seguinte maneira:\n",
        "\n",
        "* se $n$ for par, ela devolve $\\frac{n}{2}$\n",
        "* se $n$ for impar, ela devolve $3n + 1$\n",
        "\n",
        "Aparentemente, se você ficar repetindo esses passos várias vezes, você sempre chega a 1, independente do número do qual você começou. Sim, isso é estranho. E ninguém sabe o porquê.\n",
        "\n",
        "Faça uma função chamada `collatz` que receba um número `n` e devolva o próximo termo da sequência de Collatz. Isso é, se $n$ for par, ela deve retornar $\\frac{n}{2}$, e se $n$ for ímpar, $3n + 1$."
      ]
    },
    {
      "cell_type": "code",
      "execution_count": 31,
      "metadata": {
        "id": "pCGcQbQCgSVd"
      },
      "outputs": [],
      "source": [
        "def collatz(n):\n",
        "    if n % 2==0:\n",
        "      return(n/2)\n",
        "    else:\n",
        "      return(3*n +1)"
      ]
    },
    {
      "cell_type": "markdown",
      "metadata": {
        "id": "4ElX_0wegSVd"
      },
      "source": [
        "Nós voltaremos a falar sobre a sequência de Collatz em outra lista, mais à frente."
      ]
    },
    {
      "cell_type": "markdown",
      "metadata": {
        "id": "sKJFhYRFgSVe"
      },
      "source": [
        "### Máximo divisor comum (Recursão)"
      ]
    },
    {
      "cell_type": "markdown",
      "metadata": {
        "id": "naGOTRPBgSVe"
      },
      "source": [
        "Euclides tinha um jeito muito esperto de calcular o máximo divisor comum entre dois números, $a$ e $b$:\n",
        "\n",
        "* Se $b = 0$, então o máximo divisor comum era $a$.\n",
        "* Se não, ele calculava o máximo divisor comum entre $b$ e o resto da divisão de $a$ por $b$.\n",
        "\n",
        "1. Pegue um papel e caneta e calcule o máximo divisor comum de 12 e 8, usando esse algoritmo. Não use Python. Você não precisa dar uma resposta formal a essa pergunta. Só faça, para você entender como uma recusão funciona.\n",
        "2. Crie uma função chamada `mdc` que implemente esse algoritmo:"
      ]
    },
    {
      "cell_type": "code",
      "execution_count": 36,
      "metadata": {
        "id": "bv9yveqwgSVf",
        "outputId": "504e186b-d843-4ec3-9f38-c3ba8f175a06",
        "colab": {
          "base_uri": "https://localhost:8080/"
        }
      },
      "outputs": [
        {
          "output_type": "execute_result",
          "data": {
            "text/plain": [
              "4"
            ]
          },
          "metadata": {},
          "execution_count": 36
        }
      ],
      "source": [
        "def mdc(a,b):\n",
        "    if b == 0:\n",
        "      return(a)\n",
        "    else:\n",
        "      return(mdc(b,a % b))\n",
        "mdc(12,8)\n"
      ]
    },
    {
      "cell_type": "markdown",
      "metadata": {
        "id": "NCyNkjcdgSVf"
      },
      "source": [
        "### Importando uma função de um pacote"
      ]
    },
    {
      "cell_type": "markdown",
      "metadata": {
        "id": "oVWzkke-gSVg"
      },
      "source": [
        "Importe a função `log10` do pacote `math` e calcule o logaritmo de 1000 na base 10."
      ]
    },
    {
      "cell_type": "code",
      "execution_count": 37,
      "metadata": {
        "id": "uk9jggaMgSVg",
        "outputId": "95eceb49-1890-48a2-baf6-18846f0940b5",
        "colab": {
          "base_uri": "https://localhost:8080/"
        }
      },
      "outputs": [
        {
          "output_type": "execute_result",
          "data": {
            "text/plain": [
              "3.0"
            ]
          },
          "metadata": {},
          "execution_count": 37
        }
      ],
      "source": [
        "from math import log10\n",
        "log10(1000)\n"
      ]
    }
  ],
  "metadata": {
    "kernelspec": {
      "display_name": "Python 3",
      "language": "python",
      "name": "python3"
    },
    "language_info": {
      "codemirror_mode": {
        "name": "ipython",
        "version": 3
      },
      "file_extension": ".py",
      "mimetype": "text/x-python",
      "name": "python",
      "nbconvert_exporter": "python",
      "pygments_lexer": "ipython3",
      "version": "3.7.1"
    },
    "colab": {
      "provenance": []
    }
  },
  "nbformat": 4,
  "nbformat_minor": 0
}